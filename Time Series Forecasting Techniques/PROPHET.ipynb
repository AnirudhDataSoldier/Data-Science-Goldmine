{
 "cells": [
  {
   "cell_type": "markdown",
   "metadata": {},
   "source": [
    "# Prophet"
   ]
  },
  {
   "cell_type": "markdown",
   "metadata": {},
   "source": [
    "## Introduction\n",
    "\n",
    "https://machinelearningmastery.com/time-series-forecasting-with-prophet-in-python/\n",
    "\n",
    "https://www.analyticsvidhya.com/blog/2020/10/time-series-forecasting-using-facebook-prophet-library-in-python/\n",
    "\n",
    "https://www.tessellationtech.io/facebook-prophet-tutorial-time-series-forecasting/\n",
    "\n",
    "https://blog.exploratory.io/an-introduction-to-time-series-forecasting-with-prophet-package-in-exploratory-129ed0c12112\n"
   ]
  },
  {
   "cell_type": "markdown",
   "metadata": {},
   "source": [
    "## Content"
   ]
  },
  {
   "cell_type": "markdown",
   "metadata": {},
   "source": [
    "1. <a href = \"#1.-Introduction-to-Prophet\">Introduction to Prophet</a>\n",
    "2. <a href = \"#2.-Installation-of-Prophet\">Installation of Prophet</a>\n",
    "3. <a href = \"#3.-Implementation-With-Python\">Implementation With Python</a>"
   ]
  },
  {
   "cell_type": "markdown",
   "metadata": {},
   "source": [
    "### Libraries"
   ]
  },
  {
   "cell_type": "code",
   "execution_count": 15,
   "metadata": {},
   "outputs": [],
   "source": [
    "from pandas import read_csv\n",
    "from pandas import read_csv\n",
    "from matplotlib import pyplot\n",
    "from pandas import to_datetime\n",
    "from prophet import Prophet\n",
    "import pandas as pd\n",
    "import forecast"
   ]
  },
  {
   "cell_type": "code",
   "execution_count": 13,
   "metadata": {},
   "outputs": [
    {
     "name": "stdout",
     "output_type": "stream",
     "text": [
      "Collecting forecast\n",
      "  Downloading forecast-0.1.0-py2.py3-none-any.whl (4.1 kB)\n",
      "Requirement already satisfied: Click>=6.0 in c:\\program files\\python39\\lib\\site-packages (from forecast) (8.1.3)\n",
      "Requirement already satisfied: colorama in c:\\program files\\python39\\lib\\site-packages (from Click>=6.0->forecast) (0.4.5)\n",
      "Installing collected packages: forecast\n",
      "Successfully installed forecast-0.1.0\n",
      "Note: you may need to restart the kernel to use updated packages.\n"
     ]
    }
   ],
   "source": [
    "pip install forecast"
   ]
  },
  {
   "cell_type": "code",
   "execution_count": 2,
   "metadata": {},
   "outputs": [
    {
     "name": "stdout",
     "output_type": "stream",
     "text": [
      "Requirement already satisfied: prophet in c:\\program files\\python39\\lib\\site-packages (1.1.1)\n",
      "Requirement already satisfied: setuptools>=42 in c:\\program files\\python39\\lib\\site-packages (from prophet) (56.0.0)\n",
      "Requirement already satisfied: tqdm>=4.36.1 in c:\\program files\\python39\\lib\\site-packages (from prophet) (4.64.1)\n",
      "Requirement already satisfied: pandas>=1.0.4 in c:\\program files\\python39\\lib\\site-packages (from prophet) (1.5.0)\n",
      "Requirement already satisfied: setuptools-git>=1.2 in c:\\program files\\python39\\lib\\site-packages (from prophet) (1.2)\n",
      "Requirement already satisfied: wheel>=0.37.0 in c:\\program files\\python39\\lib\\site-packages (from prophet) (0.37.1)\n",
      "Requirement already satisfied: holidays>=0.14.2 in c:\\program files\\python39\\lib\\site-packages (from prophet) (0.16)\n",
      "Requirement already satisfied: cmdstanpy>=1.0.4 in c:\\program files\\python39\\lib\\site-packages (from prophet) (1.0.7)\n",
      "Requirement already satisfied: convertdate>=2.1.2 in c:\\program files\\python39\\lib\\site-packages (from prophet) (2.4.0)\n",
      "Requirement already satisfied: LunarCalendar>=0.0.9 in c:\\program files\\python39\\lib\\site-packages (from prophet) (0.0.9)\n",
      "Requirement already satisfied: numpy>=1.15.4 in c:\\program files\\python39\\lib\\site-packages (from prophet) (1.23.3)\n",
      "Requirement already satisfied: matplotlib>=2.0.0 in c:\\program files\\python39\\lib\\site-packages (from prophet) (3.6.0)\n",
      "Requirement already satisfied: python-dateutil>=2.8.0 in c:\\program files\\python39\\lib\\site-packages (from prophet) (2.8.2)\n",
      "Requirement already satisfied: ujson in c:\\program files\\python39\\lib\\site-packages (from cmdstanpy>=1.0.4->prophet) (5.5.0)\n",
      "Requirement already satisfied: pymeeus<=1,>=0.3.13 in c:\\program files\\python39\\lib\\site-packages (from convertdate>=2.1.2->prophet) (0.5.11)\n",
      "Requirement already satisfied: korean-lunar-calendar in c:\\program files\\python39\\lib\\site-packages (from holidays>=0.14.2->prophet) (0.3.1)\n",
      "Requirement already satisfied: hijri-converter in c:\\program files\\python39\\lib\\site-packages (from holidays>=0.14.2->prophet) (2.2.4)\n",
      "Requirement already satisfied: ephem>=3.7.5.3 in c:\\program files\\python39\\lib\\site-packages (from LunarCalendar>=0.0.9->prophet) (4.1.3)\n",
      "Requirement already satisfied: pytz in c:\\program files\\python39\\lib\\site-packages (from LunarCalendar>=0.0.9->prophet) (2022.2.1)\n",
      "Requirement already satisfied: contourpy>=1.0.1 in c:\\program files\\python39\\lib\\site-packages (from matplotlib>=2.0.0->prophet) (1.0.5)\n",
      "Requirement already satisfied: kiwisolver>=1.0.1 in c:\\program files\\python39\\lib\\site-packages (from matplotlib>=2.0.0->prophet) (1.4.4)\n",
      "Requirement already satisfied: cycler>=0.10 in c:\\program files\\python39\\lib\\site-packages (from matplotlib>=2.0.0->prophet) (0.11.0)\n",
      "Requirement already satisfied: pillow>=6.2.0 in c:\\program files\\python39\\lib\\site-packages (from matplotlib>=2.0.0->prophet) (9.2.0)\n",
      "Requirement already satisfied: fonttools>=4.22.0 in c:\\program files\\python39\\lib\\site-packages (from matplotlib>=2.0.0->prophet) (4.37.3)\n",
      "Requirement already satisfied: packaging>=20.0 in c:\\program files\\python39\\lib\\site-packages (from matplotlib>=2.0.0->prophet) (21.3)\n",
      "Requirement already satisfied: pyparsing>=2.2.1 in c:\\program files\\python39\\lib\\site-packages (from matplotlib>=2.0.0->prophet) (3.0.9)\n",
      "Requirement already satisfied: six>=1.5 in c:\\program files\\python39\\lib\\site-packages (from python-dateutil>=2.8.0->prophet) (1.16.0)\n",
      "Requirement already satisfied: colorama in c:\\program files\\python39\\lib\\site-packages (from tqdm>=4.36.1->prophet) (0.4.5)\n",
      "Note: you may need to restart the kernel to use updated packages.\n"
     ]
    }
   ],
   "source": [
    "pip install prophet"
   ]
  },
  {
   "cell_type": "markdown",
   "metadata": {},
   "source": [
    "## 1. Introduction to Prophet"
   ]
  },
  {
   "cell_type": "markdown",
   "metadata": {},
   "source": [
    "What is Prophet?\n",
    "\n",
    ">Prophet, or “Facebook Prophet,” is an open-source library for univariate (one variable) time series forecasting developed by Facebook.The library is so powerful that it has the capability of handling stationarity within the data and also seasonality related components. By stationarity, we mean that there should be constant mean, variance, and covariance in the data if we divide the data into segments with respect to time and seasonality means the same type of trend the data is following if segregated based on time intervals.Prophet implements what they refer to as an additive time series forecasting model, and the implementation supports trends, seasonality, and holidays.For time-series data that will be used as a predictive analysis model, there should be no seasonality and stationarity should be maintained over time intervals. When it comes to using ARIMA, AR, and other models of the same kind then there is always a problem related to the eradication of any kind of seasonality and nonstationarity but, with the help of Prophet, this problem has been finished.This library offers n number of parameters to play around with and tune our model with higher efficiency for eg. specifying holidays, daily seasonality, Fourier transformations, etc."
   ]
  },
  {
   "cell_type": "markdown",
   "metadata": {},
   "source": [
    "Fit Prophet Model\n",
    "\n",
    "To use Prophet for forecasting, first, a Prophet() object is defined and configured, then it is fit on the dataset by calling the fit() function and passing the data.\n",
    "\n",
    "The Prophet() object takes arguments to configure the type of model you want, such as the type of growth, the type of seasonality, and more. By default, the model will work hard to figure out almost everything automatically.\n",
    "\n",
    "The fit() function takes a DataFrame of time series data. The DataFrame must have a specific format. The first column must have the name ‘ds‘ and contain the date-times. The second column must have the name ‘y‘ and contain the observations.\n",
    "\n",
    "This means we change the column names in the dataset. It also requires that the first column be converted to date-time objects, if they are not already (e.g. this can be down as part of loading the dataset with the right arguments to read_csv)."
   ]
  },
  {
   "cell_type": "markdown",
   "metadata": {},
   "source": [
    "[<a href=\"#Content\">Back to Content</a>]"
   ]
  },
  {
   "cell_type": "markdown",
   "metadata": {},
   "source": [
    "## 2. Installation of Prophet"
   ]
  },
  {
   "attachments": {
    "image.png": {
     "image/png": "[encoded data removed]"
    }
   },
   "cell_type": "markdown",
   "metadata": {},
   "source": [
    "To install this library make sure that Python/Anaconda is already there in your system along with pip installation. Also, you should have the knowledge of creating a new environment in Anaconda to download the libraries through pip or conda. So, let’s see the installation:\n",
    "\n",
    "1. To install Fbprophet one must first install Pystan which is a library that helps in running Fbprophet with ease. To install Pystan just open you Command Prompt or Anaconda Prompt and then type:\n",
    "![image.png](attachment:image.png)"
   ]
  },
  {
   "attachments": {
    "image.png": {
     "image/png": "[encoded data removed]"
    }
   },
   "cell_type": "markdown",
   "metadata": {},
   "source": [
    "Wait for the installation to finish.\n",
    "\n",
    "2. Once Pystan is successfully downloaded, the next step is to install Fbprophet either by pip or conda. Under the same Command Prompt just type:\n",
    "![image.png](attachment:image.png)\n",
    "or,"
   ]
  },
  {
   "attachments": {
    "image.png": {
     "image/png": "[encoded data removed]"
    }
   },
   "cell_type": "markdown",
   "metadata": {},
   "source": [
    "![image.png](attachment:image.png)\n",
    "3. Once, the installation finishes and throws no error then you have successfully installed the packages and are ready for the implementation."
   ]
  },
  {
   "cell_type": "markdown",
   "metadata": {},
   "source": [
    "[<a href=\"#Content\">Back to Content</a>]"
   ]
  },
  {
   "cell_type": "markdown",
   "metadata": {},
   "source": [
    "## 3. Implementation With Python"
   ]
  },
  {
   "cell_type": "markdown",
   "metadata": {},
   "source": [
    "To use Fbprophet one must have a few libraries already installed within the system like Pandas, Matplotlib, Numpy, Warnings (exceptional), Jupyter Notebook, or Lab.\n",
    "\n",
    "The steps involved in carrying out predictive analysis with the Fbprophet library are:\n",
    "- a. Importing the necessary libraries\n",
    "- b. Importing the data with the help of the Pandas library.\n",
    "- c. Data Preprocessing i.e., taking only two columns which is the date column and the target column, and ignoring the others. Also, converting the date column to Date Time format and then renaming both the columns to “ds” for date and “y” for the target. You can also use feature scaling like normalization or standardization for fast execution of code and better predictions.\n",
    "- d. Fitting/Training the whole model under the Prophet library.\n",
    "- e. Creating new data with the help of the Prophet and then predicting the output on this new data.\n",
    "- f. Plotting the forecast as obtained."
   ]
  },
  {
   "cell_type": "markdown",
   "metadata": {},
   "source": [
    "[<a href=\"#Content\">Back to Content</a>]"
   ]
  },
  {
   "cell_type": "code",
   "execution_count": 3,
   "metadata": {},
   "outputs": [
    {
     "name": "stdout",
     "output_type": "stream",
     "text": [
      "(108, 2)\n",
      "     Month  Sales\n",
      "0  1960-01   6550\n",
      "1  1960-02   8728\n",
      "2  1960-03  12026\n",
      "3  1960-04  14395\n",
      "4  1960-05  14587\n"
     ]
    }
   ],
   "source": [
    "# load data\n",
    "path = 'https://raw.githubusercontent.com/jbrownlee/Datasets/master/monthly-car-sales.csv'\n",
    "df = read_csv(path, header=0)\n",
    "# summarize shape\n",
    "print(df.shape)\n",
    "# show first few rows\n",
    "print(df.head())"
   ]
  },
  {
   "cell_type": "code",
   "execution_count": 4,
   "metadata": {},
   "outputs": [
    {
     "data": {
      "image/png": "[encoded data removed]",
      "text/plain": [
       "<Figure size 640x480 with 1 Axes>"
      ]
     },
     "metadata": {},
     "output_type": "display_data"
    }
   ],
   "source": [
    "# load and plot the car sales dataset\n",
    "df.plot()\n",
    "pyplot.show()"
   ]
  },
  {
   "cell_type": "code",
   "execution_count": 5,
   "metadata": {},
   "outputs": [],
   "source": [
    "# prepare expected column names\n",
    "df.columns = ['ds', 'y']\n",
    "df['ds']= to_datetime(df['ds'])"
   ]
  },
  {
   "cell_type": "code",
   "execution_count": 6,
   "metadata": {},
   "outputs": [],
   "source": [
    "#published paper, include the understandings"
   ]
  },
  {
   "cell_type": "code",
   "execution_count": 7,
   "metadata": {},
   "outputs": [
    {
     "name": "stderr",
     "output_type": "stream",
     "text": [
      "16:04:51 - cmdstanpy - INFO - Chain [1] start processing\n",
      "16:04:51 - cmdstanpy - INFO - Chain [1] done processing\n"
     ]
    },
    {
     "data": {
      "text/plain": [
       "<prophet.forecaster.Prophet at 0x222f835cd00>"
      ]
     },
     "execution_count": 7,
     "metadata": {},
     "output_type": "execute_result"
    }
   ],
   "source": [
    "# define the model\n",
    "model = Prophet()\n",
    "# fit the model\n",
    "model.fit(df)"
   ]
  },
  {
   "cell_type": "code",
   "execution_count": 8,
   "metadata": {},
   "outputs": [],
   "source": [
    "# define the period for which we want a prediction\n",
    "future = list()\n",
    "for i in range(1, 13):\n",
    "    date = '1968-%02d' % i\n",
    "    future.append([date])\n",
    "future = pd.DataFrame(future)\n",
    "future.columns = ['ds']\n",
    "future['ds']= to_datetime(future['ds'])"
   ]
  },
  {
   "cell_type": "code",
   "execution_count": null,
   "metadata": {},
   "outputs": [],
   "source": []
  },
  {
   "cell_type": "code",
   "execution_count": 18,
   "metadata": {},
   "outputs": [
    {
     "ename": "TypeError",
     "evalue": "'module' object is not subscriptable",
     "output_type": "error",
     "traceback": [
      "\u001b[1;31m---------------------------------------------------------------------------\u001b[0m",
      "\u001b[1;31mTypeError\u001b[0m                                 Traceback (most recent call last)",
      "Cell \u001b[1;32mIn [18], line 2\u001b[0m\n\u001b[0;32m      1\u001b[0m \u001b[38;5;66;03m# summarize the forecast\u001b[39;00m\n\u001b[1;32m----> 2\u001b[0m \u001b[38;5;28mprint\u001b[39m(forecast[[\u001b[38;5;124m'\u001b[39m\u001b[38;5;124mds\u001b[39m\u001b[38;5;124m'\u001b[39m, \u001b[38;5;124m'\u001b[39m\u001b[38;5;124myhat\u001b[39m\u001b[38;5;124m'\u001b[39m, \u001b[38;5;124m'\u001b[39m\u001b[38;5;124myhat_lower\u001b[39m\u001b[38;5;124m'\u001b[39m, \u001b[38;5;124m'\u001b[39m\u001b[38;5;124myhat_upper\u001b[39m\u001b[38;5;124m'\u001b[39m]]\u001b[38;5;241m.\u001b[39mhead())\n",
      "\u001b[1;31mTypeError\u001b[0m: 'module' object is not subscriptable"
     ]
    }
   ],
   "source": [
    "# summarize the forecast\n",
    "print(forecast[['ds', 'yhat', 'yhat_lower', 'yhat_upper']].head())"
   ]
  },
  {
   "cell_type": "code",
   "execution_count": null,
   "metadata": {},
   "outputs": [],
   "source": [
    "# plot forecast\n",
    "model.plot(forecast)\n",
    "pyplot.show()"
   ]
  },
  {
   "cell_type": "code",
   "execution_count": null,
   "metadata": {},
   "outputs": [],
   "source": [
    "# errors"
   ]
  }
 ],
 "metadata": {
  "kernelspec": {
   "display_name": "Python 3 (ipykernel)",
   "language": "python",
   "name": "python3"
  },
  "language_info": {
   "codemirror_mode": {
    "name": "ipython",
    "version": 3
   },
   "file_extension": ".py",
   "mimetype": "text/x-python",
   "name": "python",
   "nbconvert_exporter": "python",
   "pygments_lexer": "ipython3",
   "version": "3.10.7"
  }
 },
 "nbformat": 4,
 "nbformat_minor": 4
}
